{
 "cells": [
  {
   "cell_type": "markdown",
   "metadata": {},
   "source": [
    "# Introduction to Neural Networks with PyTorch"
   ]
  },
  {
   "cell_type": "markdown",
   "metadata": {},
   "source": [
    "### Typical workflow\n",
    "Define Dataset, Dataloader -> Define Model -> Train -> Predict"
   ]
  },
  {
   "cell_type": "markdown",
   "metadata": {},
   "source": [
    "## Dataset and Dataloader"
   ]
  },
  {
   "cell_type": "code",
   "execution_count": 25,
   "metadata": {},
   "outputs": [],
   "source": [
    "import torch\n",
    "from torchvision import datasets\n",
    "import torchvision.transforms as tf\n",
    "import torch.nn.functional as F\n",
    "\n",
    "train_dataset = datasets.MNIST('./data', train=True, download=True, transform=tf.ToTensor())\n",
    "test_dataset = datasets.MNIST('./data', train=False, download=True, transform=tf.ToTensor())"
   ]
  },
  {
   "cell_type": "markdown",
   "metadata": {},
   "source": [
    "#### Dataset stores the samples and their corresponding labels while DataLoader wraps an iterable around the dataset\n",
    "\n",
    "- Batch size = number of datasamples propogated before parameters are updated"
   ]
  },
  {
   "cell_type": "code",
   "execution_count": 26,
   "metadata": {},
   "outputs": [],
   "source": [
    "from torch.utils.data import DataLoader\n",
    "\n",
    "train_dl = DataLoader(train_dataset, batch_size=64, shuffle=True)\n",
    "test_dl = DataLoader(test_dataset, batch_size=64, shuffle=True)"
   ]
  },
  {
   "cell_type": "code",
   "execution_count": 27,
   "metadata": {},
   "outputs": [
    {
     "name": "stdout",
     "output_type": "stream",
     "text": [
      "torch.Size([64, 1, 28, 28]) torch.Size([64])\n"
     ]
    }
   ],
   "source": [
    "# Using the dataloader\n",
    "\n",
    "loader = enumerate(train_dl)\n",
    "batch, (x,y) = next(loader)\n",
    "print(x.shape, y.shape)"
   ]
  },
  {
   "cell_type": "code",
   "execution_count": 28,
   "metadata": {},
   "outputs": [
    {
     "data": {
      "image/png": "[encoded data removed]",
      "text/plain": [
       "<Figure size 432x288 with 1 Axes>"
      ]
     },
     "metadata": {
      "needs_background": "light"
     },
     "output_type": "display_data"
    },
    {
     "name": "stdout",
     "output_type": "stream",
     "text": [
      "tensor(5)\n"
     ]
    }
   ],
   "source": [
    "import matplotlib.pyplot as plt\n",
    "plt.imshow(x[0][0], cmap='gray')\n",
    "plt.show()\n",
    "print(y[0])"
   ]
  },
  {
   "cell_type": "markdown",
   "metadata": {},
   "source": [
    "### Model (CNN)\n",
    "- Model does not return probabilities in this case\n",
    "\n",
    "- Input Channels are the number of channels in the image (RGB = 3, Grayscale = 1, Only applies to first convolution)\n",
    "\n",
    "- Output Channels are the number of feature maps\n",
    "\n",
    "- Dropout essentially zeros at random some values, with probability p"
   ]
  },
  {
   "cell_type": "code",
   "execution_count": 35,
   "metadata": {},
   "outputs": [],
   "source": [
    "import torch.nn as nn\n",
    "\n",
    "class CNN(nn.Module):\n",
    "    def __init__(self):\n",
    "        super(CNN, self).__init__()\n",
    "                            #  Input Channel, Output Channel\n",
    "        self.conv1 = nn.Conv2d(1, 32, kernel_size=5)\n",
    "        self.conv2 = nn.Conv2d(32, 32, kernel_size=5)\n",
    "        self.conv3 = nn.Conv2d(32, 64, kernel_size=5)\n",
    "        self.fc1 = nn.Linear(3*3*64, 256) # 3*3*64 because we have 64 feature maps by the end of conv3\n",
    "        self.fc2 = nn.Linear(256, 10)\n",
    "\n",
    "    def forward(self, x):\n",
    "        x = F.relu(self.conv1(x))\n",
    "        #x = F.dropout(x, p=0.5, training=self.training)\n",
    "        x = F.relu(F.max_pool2d(self.conv2(x), 2))\n",
    "        x = F.dropout(x, p=0.5, training=self.training)\n",
    "        x = F.relu(F.max_pool2d(self.conv3(x), 2))\n",
    "        x = F.dropout(x, p=0.5, training=self.training)\n",
    "        x = x.view(-1, 3*3*64 )\n",
    "        x = F.relu(self.fc1(x))\n",
    "        x = F.dropout(x, training=self.training)\n",
    "        x = self.fc2(x)\n",
    "        return x"
   ]
  },
  {
   "cell_type": "code",
   "execution_count": 36,
   "metadata": {},
   "outputs": [
    {
     "name": "stdout",
     "output_type": "stream",
     "text": [
      "torch.Size([1, 10]) tensor([[ 0.0498, -0.0186,  0.0051, -0.3020,  0.1726, -0.1470, -0.0754,  0.1435,\n",
      "         -0.0216,  0.0281]])\n",
      "tensor([4])\n"
     ]
    }
   ],
   "source": [
    "# Looking at models outputs using a random input tensor\n",
    "def test():\n",
    "    model = CNN()\n",
    "    x = torch.randn(1, 1, 28, 28)\n",
    "    with torch.no_grad():\n",
    "        y = model(x)\n",
    "    print(y.shape, y)\n",
    "    \n",
    "    # evaluating probabilites\n",
    "    print(y.argmax(1))\n",
    "    \n",
    "test()"
   ]
  },
  {
   "cell_type": "markdown",
   "metadata": {},
   "source": [
    "## Training the model\n",
    "\n",
    "#### Hyperparameters\n",
    "- adjustable params that you control optimisation process\n",
    "\n",
    "- Epochs = number of times to iterate over dataset\n",
    "- Learning Rate= how much to update the model paramters at each epoch"
   ]
  },
  {
   "cell_type": "code",
   "execution_count": 37,
   "metadata": {},
   "outputs": [],
   "source": [
    "LR = 1e-3\n",
    "EPOCHS = 5\n",
    "loss_fn = nn.CrossEntropyLoss()\n",
    "model = CNN()\n",
    "optimizer = optimizer = torch.optim.Adam(model.parameters(), lr=LR)\n",
    "DEVICE = 'cpu'"
   ]
  },
  {
   "cell_type": "code",
   "execution_count": 38,
   "metadata": {},
   "outputs": [],
   "source": [
    "def train_loop(dataloader, model, loss_fn, optimizer):\n",
    "    size = len(dataloader.dataset)\n",
    "    for batch, (X, y) in enumerate(dataloader):\n",
    "        X = X.to(device=DEVICE)\n",
    "        y = y.to(device=DEVICE)\n",
    "        #compute prediction and loss\n",
    "        pred = model(X)\n",
    "        loss = loss_fn(pred, y)\n",
    "        \n",
    "        # backpropogation\n",
    "        optimizer.zero_grad()\n",
    "        loss.backward()\n",
    "        optimizer.step()\n",
    "        \n",
    "        if batch%200 ==0:\n",
    "            loss, current = loss.item(), batch*len(X)\n",
    "            print(f\"loss: {loss:>7f}  [{current:>5d}/{size:>5d}]\")\n",
    "            \n",
    "def test_loop(dataloader, model, loss_fn):\n",
    "    size = len(dataloader.dataset)\n",
    "    num_batches = len(dataloader)\n",
    "    test_loss, correct = 0, 0\n",
    "\n",
    "    with torch.no_grad():\n",
    "        for X, y in dataloader:\n",
    "            X = X.to(device=DEVICE)\n",
    "            y = y.to(device=DEVICE)\n",
    "            \n",
    "            pred = model(X)\n",
    "            test_loss += loss_fn(pred, y).item()\n",
    "            correct += (pred.argmax(1) == y).type(torch.float).sum().item()\n",
    "\n",
    "    test_loss /= num_batches\n",
    "    correct /= size\n",
    "    print(f\"Test Error: \\n Accuracy: {(100*correct):>0.1f}%, Avg loss: {test_loss:>8f} \\n\")"
   ]
  },
  {
   "cell_type": "code",
   "execution_count": 39,
   "metadata": {
    "scrolled": false
   },
   "outputs": [
    {
     "name": "stdout",
     "output_type": "stream",
     "text": [
      "Epoch 1\n",
      " ++++++++++++++++++++++++++++++++++++++++++++++++\n",
      "loss: 2.303724  [    0/60000]\n",
      "loss: 0.352928  [12800/60000]\n",
      "loss: 0.263179  [25600/60000]\n",
      "loss: 0.159449  [38400/60000]\n",
      "loss: 0.187971  [51200/60000]\n",
      "Test Error: \n",
      " Accuracy: 95.9%, Avg loss: 0.130147 \n",
      "\n",
      "Epoch 2\n",
      " ++++++++++++++++++++++++++++++++++++++++++++++++\n",
      "loss: 0.097313  [    0/60000]\n",
      "loss: 0.138947  [12800/60000]\n",
      "loss: 0.041755  [25600/60000]\n",
      "loss: 0.017731  [38400/60000]\n",
      "loss: 0.211607  [51200/60000]\n",
      "Test Error: \n",
      " Accuracy: 97.5%, Avg loss: 0.082851 \n",
      "\n",
      "Epoch 3\n",
      " ++++++++++++++++++++++++++++++++++++++++++++++++\n",
      "loss: 0.061435  [    0/60000]\n",
      "loss: 0.091965  [12800/60000]\n",
      "loss: 0.212566  [25600/60000]\n",
      "loss: 0.086738  [38400/60000]\n",
      "loss: 0.110910  [51200/60000]\n",
      "Test Error: \n",
      " Accuracy: 98.1%, Avg loss: 0.065476 \n",
      "\n",
      "Epoch 4\n",
      " ++++++++++++++++++++++++++++++++++++++++++++++++\n",
      "loss: 0.034661  [    0/60000]\n",
      "loss: 0.067980  [12800/60000]\n",
      "loss: 0.051534  [25600/60000]\n",
      "loss: 0.097425  [38400/60000]\n",
      "loss: 0.039200  [51200/60000]\n",
      "Test Error: \n",
      " Accuracy: 98.0%, Avg loss: 0.063992 \n",
      "\n",
      "Epoch 5\n",
      " ++++++++++++++++++++++++++++++++++++++++++++++++\n",
      "loss: 0.079389  [    0/60000]\n",
      "loss: 0.082332  [12800/60000]\n",
      "loss: 0.341002  [25600/60000]\n",
      "loss: 0.254170  [38400/60000]\n",
      "loss: 0.110796  [51200/60000]\n",
      "Test Error: \n",
      " Accuracy: 98.1%, Avg loss: 0.068808 \n",
      "\n",
      "Done!\n"
     ]
    }
   ],
   "source": [
    "model = model.to(device=DEVICE)\n",
    "\n",
    "for t in range(EPOCHS):\n",
    "    print(f\"Epoch {t+1}\\n ++++++++++++++++++++++++++++++++++++++++++++++++\")\n",
    "    train_loop(train_dl, model, loss_fn, optimizer)\n",
    "    test_loop(test_dl, model, loss_fn)\n",
    "print(\"Done!\")"
   ]
  },
  {
   "cell_type": "markdown",
   "metadata": {},
   "source": [
    "## Predicting classes\n",
    "- Using our trained model to predict "
   ]
  },
  {
   "cell_type": "code",
   "execution_count": 58,
   "metadata": {
    "scrolled": false
   },
   "outputs": [],
   "source": [
    "from PIL import Image\n",
    "import os\n",
    "import numpy as np\n",
    "import cv2\n",
    "import matplotlib.pyplot as plt\n",
    "# Other Model\n",
    "omodel = torch.load(\"./really_good_model.ptcnn\", map_location=torch.device('cpu'))\n",
    "#image = Image.open('./topredict.jpeg').convert(\"L\")\n",
    "images = {x.split(\".\")[0]:cv2.bitwise_not(cv2.cvtColor(np.array(Image.open( \"./to_predict/\" + x)), cv2.COLOR_BGR2GRAY)) for x in os.listdir(\"./to_predict\")}"
   ]
  },
  {
   "cell_type": "code",
   "execution_count": 59,
   "metadata": {},
   "outputs": [],
   "source": [
    "# https://pytorch.org/vision/stable/transforms.html\n",
    "transform = tf.Compose([\n",
    "    tf.ToTensor(),\n",
    "    tf.Resize((28,28))\n",
    "])\n",
    "\n",
    "transformed_images = {}\n",
    "\n",
    "for image in images.keys():\n",
    "    images[image] = cv2.resize(images[image], (28, 28))\n",
    "    transformed_images[image] = transform(images[image])\n",
    "\n",
    "#image_tensor = transform(image)\n",
    "#image_tensor.shape"
   ]
  },
  {
   "cell_type": "code",
   "execution_count": 60,
   "metadata": {
    "scrolled": false
   },
   "outputs": [
    {
     "name": "stdout",
     "output_type": "stream",
     "text": [
      "Real \t:\t Pred\n",
      "\n",
      "CORRECT!\t 3 \t:\t 3\n"
     ]
    },
    {
     "data": {
      "image/png": "[encoded data removed]",
      "text/plain": [
       "<Figure size 432x288 with 1 Axes>"
      ]
     },
     "metadata": {
      "needs_background": "light"
     },
     "output_type": "display_data"
    },
    {
     "name": "stdout",
     "output_type": "stream",
     "text": [
      "CORRECT!\t 6 \t:\t 6\n"
     ]
    },
    {
     "data": {
      "image/png": "[encoded data removed]",
      "text/plain": [
       "<Figure size 432x288 with 1 Axes>"
      ]
     },
     "metadata": {
      "needs_background": "light"
     },
     "output_type": "display_data"
    },
    {
     "name": "stdout",
     "output_type": "stream",
     "text": [
      "WRONG!  \t 2 \t:\t 0\n"
     ]
    },
    {
     "data": {
      "image/png": "[encoded data removed]",
      "text/plain": [
       "<Figure size 432x288 with 1 Axes>"
      ]
     },
     "metadata": {
      "needs_background": "light"
     },
     "output_type": "display_data"
    },
    {
     "name": "stdout",
     "output_type": "stream",
     "text": [
      "CORRECT!\t 4 \t:\t 4\n"
     ]
    },
    {
     "data": {
      "image/png": "[encoded data removed]",
      "text/plain": [
       "<Figure size 432x288 with 1 Axes>"
      ]
     },
     "metadata": {
      "needs_background": "light"
     },
     "output_type": "display_data"
    },
    {
     "name": "stdout",
     "output_type": "stream",
     "text": [
      "CORRECT!\t 0 \t:\t 0\n"
     ]
    },
    {
     "data": {
      "image/png": "[encoded data removed]",
      "text/plain": [
       "<Figure size 432x288 with 1 Axes>"
      ]
     },
     "metadata": {
      "needs_background": "light"
     },
     "output_type": "display_data"
    },
    {
     "name": "stdout",
     "output_type": "stream",
     "text": [
      "CORRECT!\t 8 \t:\t 8\n"
     ]
    },
    {
     "data": {
      "image/png": "[encoded data removed]",
      "text/plain": [
       "<Figure size 432x288 with 1 Axes>"
      ]
     },
     "metadata": {
      "needs_background": "light"
     },
     "output_type": "display_data"
    },
    {
     "name": "stdout",
     "output_type": "stream",
     "text": [
      "CORRECT!\t 5 \t:\t 5\n"
     ]
    },
    {
     "data": {
      "image/png": "[encoded data removed]",
      "text/plain": [
       "<Figure size 432x288 with 1 Axes>"
      ]
     },
     "metadata": {
      "needs_background": "light"
     },
     "output_type": "display_data"
    },
    {
     "name": "stdout",
     "output_type": "stream",
     "text": [
      "CORRECT!\t 1 \t:\t 1\n"
     ]
    },
    {
     "data": {
      "image/png": "[encoded data removed]",
      "text/plain": [
       "<Figure size 432x288 with 1 Axes>"
      ]
     },
     "metadata": {
      "needs_background": "light"
     },
     "output_type": "display_data"
    },
    {
     "name": "stdout",
     "output_type": "stream",
     "text": [
      "CORRECT!\t 7 \t:\t 7\n"
     ]
    },
    {
     "data": {
      "image/png": "[encoded data removed]",
      "text/plain": [
       "<Figure size 432x288 with 1 Axes>"
      ]
     },
     "metadata": {
      "needs_background": "light"
     },
     "output_type": "display_data"
    },
    {
     "name": "stdout",
     "output_type": "stream",
     "text": [
      "CORRECT!\t 9 \t:\t 9\n"
     ]
    },
    {
     "data": {
      "image/png": "[encoded data removed]",
      "text/plain": [
       "<Figure size 432x288 with 1 Axes>"
      ]
     },
     "metadata": {
      "needs_background": "light"
     },
     "output_type": "display_data"
    },
    {
     "name": "stdout",
     "output_type": "stream",
     "text": [
      "Accuracy: 90.0%\n"
     ]
    }
   ],
   "source": [
    "import time\n",
    "nums = {\"ZERO\":0, 'ONE':1, 'TWO':2, 'THREE':3, 'FOUR':4, 'FIVE':5, 'SIX':6, 'SEVEN':7, 'EIGHT':8, 'NINE':9}\n",
    "print(\"Real\", \"\\t:\\t\", \"Pred\" + \"\\n\")\n",
    "correct = 0\n",
    "for key, image_tensor in transformed_images.items():\n",
    "    image_tensor = image_tensor.resize(1, 1, 28, 28)\n",
    "    image_tensor = image_tensor.to(device=DEVICE)\n",
    "    pred = omodel(image_tensor)\n",
    "    if nums[key.upper()] == int(torch.argmax(pred)):\n",
    "        correct += 1\n",
    "        print(\"CORRECT!\\t\", nums[key.upper()], \"\\t:\\t\", int(torch.argmax(pred)))\n",
    "    else:\n",
    "        print(\"WRONG!  \\t\", nums[key.upper()], \"\\t:\\t\", int(torch.argmax(pred)))\n",
    "    plt.figure()\n",
    "    plt.imshow(images[key], cmap='gray')\n",
    "    plt.show()\n",
    "print(\"Accuracy: \", correct/10 * 100, \"%\", sep='')"
   ]
  },
  {
   "cell_type": "code",
   "execution_count": null,
   "metadata": {},
   "outputs": [],
   "source": []
  },
  {
   "cell_type": "code",
   "execution_count": null,
   "metadata": {},
   "outputs": [],
   "source": []
  }
 ],
 "metadata": {
  "kernelspec": {
   "display_name": "Python 3",
   "language": "python",
   "name": "python3"
  },
  "language_info": {
   "codemirror_mode": {
    "name": "ipython",
    "version": 3
   },
   "file_extension": ".py",
   "mimetype": "text/x-python",
   "name": "python",
   "nbconvert_exporter": "python",
   "pygments_lexer": "ipython3",
   "version": "3.8.5"
  }
 },
 "nbformat": 4,
 "nbformat_minor": 5
}
